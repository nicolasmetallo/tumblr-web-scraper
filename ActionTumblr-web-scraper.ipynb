{
 "cells": [
  {
   "cell_type": "markdown",
   "metadata": {},
   "source": [
    "# Action on Tumblr\n",
    "## Web-scraper\n",
    "-------------\n",
    "Description: We all need to work together to determine the future of the world. It’s time to #takeaction."
   ]
  },
  {
   "cell_type": "markdown",
   "metadata": {},
   "source": [
    "### Import libraries and data\n",
    "---"
   ]
  },
  {
   "cell_type": "code",
   "execution_count": 1,
   "metadata": {},
   "outputs": [
    {
     "name": "stdout",
     "output_type": "stream",
     "text": [
      "<class 'bs4.BeautifulSoup'>\n"
     ]
    }
   ],
   "source": [
    "#!pip install requests[security]\n",
    "from bs4 import BeautifulSoup\n",
    "import urllib\n",
    "\n",
    "import csv\n",
    "import requests\n",
    "import pandas as pd\n",
    "import numpy as np\n",
    "\n",
    "r = urllib.urlopen('ActiononTumblr.htm').read()\n",
    "soup = BeautifulSoup(r, \"html5lib\")\n",
    "print type(soup)"
   ]
  },
  {
   "cell_type": "markdown",
   "metadata": {},
   "source": [
    "### Load Website Content and Generate Dataset\n",
    "---"
   ]
  },
  {
   "cell_type": "code",
   "execution_count": 4,
   "metadata": {},
   "outputs": [
    {
     "data": {
      "text/html": [
       "<div>\n",
       "<style>\n",
       "    .dataframe thead tr:only-child th {\n",
       "        text-align: right;\n",
       "    }\n",
       "\n",
       "    .dataframe thead th {\n",
       "        text-align: left;\n",
       "    }\n",
       "\n",
       "    .dataframe tbody tr th {\n",
       "        vertical-align: top;\n",
       "    }\n",
       "</style>\n",
       "<table border=\"1\" class=\"dataframe\">\n",
       "  <thead>\n",
       "    <tr style=\"text-align: right;\">\n",
       "      <th></th>\n",
       "      <th>Link</th>\n",
       "      <th>Number of Notes</th>\n",
       "      <th>Date</th>\n",
       "    </tr>\n",
       "  </thead>\n",
       "  <tbody>\n",
       "    <tr>\n",
       "      <th>0</th>\n",
       "      <td>https://action.tumblr.com/post/159839983820/pb...</td>\n",
       "      <td>1,386 notes</td>\n",
       "      <td>Apr 21st, 2017</td>\n",
       "    </tr>\n",
       "    <tr>\n",
       "      <th>1</th>\n",
       "      <td>https://action.tumblr.com/post/159839945455/wh...</td>\n",
       "      <td>1,653 notes</td>\n",
       "      <td>Apr 21st, 2017</td>\n",
       "    </tr>\n",
       "    <tr>\n",
       "      <th>2</th>\n",
       "      <td>https://action.tumblr.com/post/159839943050/a-...</td>\n",
       "      <td>323 notes</td>\n",
       "      <td>Apr 21st, 2017</td>\n",
       "    </tr>\n",
       "    <tr>\n",
       "      <th>3</th>\n",
       "      <td>https://action.tumblr.com/post/159839941675/ho...</td>\n",
       "      <td>320 notes</td>\n",
       "      <td>Apr 21st, 2017</td>\n",
       "    </tr>\n",
       "    <tr>\n",
       "      <th>4</th>\n",
       "      <td>https://action.tumblr.com/post/159839938215/to...</td>\n",
       "      <td>79 notes</td>\n",
       "      <td>Apr 21st, 2017</td>\n",
       "    </tr>\n",
       "  </tbody>\n",
       "</table>\n",
       "</div>"
      ],
      "text/plain": [
       "                                                Link Number of Notes  \\\n",
       "0  https://action.tumblr.com/post/159839983820/pb...     1,386 notes   \n",
       "1  https://action.tumblr.com/post/159839945455/wh...     1,653 notes   \n",
       "2  https://action.tumblr.com/post/159839943050/a-...       323 notes   \n",
       "3  https://action.tumblr.com/post/159839941675/ho...       320 notes   \n",
       "4  https://action.tumblr.com/post/159839938215/to...        79 notes   \n",
       "\n",
       "             Date  \n",
       "0  Apr 21st, 2017  \n",
       "1  Apr 21st, 2017  \n",
       "2  Apr 21st, 2017  \n",
       "3  Apr 21st, 2017  \n",
       "4  Apr 21st, 2017  "
      ]
     },
     "execution_count": 4,
     "metadata": {},
     "output_type": "execute_result"
    }
   ],
   "source": [
    "# Write links from Action Tumblr into .csv\n",
    "path = ''\n",
    "f = csv.writer(open(path + \"tumblr.csv\", \"w\"))\n",
    "f.writerow([\"Link\", \"Number of Notes\", \"Date\"]) # Write column headers as the first line\n",
    "\n",
    "post = soup.find_all(\"div\", class_=\"date-note-wrapper\")\n",
    "\n",
    "for each in post:\n",
    "    link = list(each)[1].find('a').get('href')\n",
    "    number = list(each)[1].find('a').get_text()\n",
    "    date = list(each)[3].get_text()\n",
    "    \n",
    "    f.writerow([link, number, date])\n",
    "    \n",
    "df = pd.read_csv(path + \"tumblr.csv\")\n",
    "df.head()"
   ]
  },
  {
   "cell_type": "markdown",
   "metadata": {},
   "source": [
    "### Using Requests, BeautifulSoup and Pytesseract to scrap the Web:\n",
    "---\n",
    "** Steps: **\n",
    "- Import libraries\n",
    "- Define new columns for our dataset\n",
    "- Iterate through all rows\n",
    "- Get asker name and question\n",
    "- Get metatags from the question\n",
    "- Iterate through the replies\n",
    "- The name of the person who answers is encoded in an image. Use pytesseract to transform the image into text and save that name\n",
    "- Remove any unwanted character\n",
    "- Get replies related to each person and save their answers"
   ]
  },
  {
   "cell_type": "code",
   "execution_count": 35,
   "metadata": {},
   "outputs": [],
   "source": [
    "import io\n",
    "import pytesseract\n",
    "from PIL import Image\n",
    "\n",
    "df['Asker'] = ''\n",
    "df['Asker_question'] = ''\n",
    "df['Tags'] = ''\n",
    "df['EXP_1_who'] = ''\n",
    "df['EXP_1_answer'] = ''\n",
    "df['EXP_2_who'] = ''\n",
    "df['EXP_2_answer'] = ''\n",
    "df['EXP_3_who'] = ''\n",
    "df['EXP_3_answer'] = ''\n",
    "df['EXP_4_who'] = ''\n",
    "df['EXP_4_answer'] = ''\n",
    "df['EXP_5_who'] = ''\n",
    "df['EXP_5_answer'] = ''\n",
    "\n",
    "for index, row in df.iterrows():\n",
    "    \n",
    "    url = row['Link']\n",
    "    page = requests.get(url)\n",
    "    page_data = BeautifulSoup(page.content, 'html.parser')\n",
    "    \n",
    "    row['Asker'] = page_data.find_all(\"p\", class_=\"asker\")[0].find('strong').get_text()\n",
    "    row['Asker_question'] = page_data.find_all(\"div\", class_=\"asker-question\")[0].get_text().strip()\n",
    "    \n",
    "    mylist = []\n",
    "    tags_all = page_data.find_all(\"section\", class_ = \"inline-meta post-extra has-tags\")[0].find_all('a')\n",
    "    for each in tags_all:\n",
    "        mylist.append(each.get_text())\n",
    "    row['Tags'] = ','.join(mylist)\n",
    "    \n",
    "    try:\n",
    "        raw = page_data.find('div', class_ = 'answerer-answer')\n",
    "        if len(raw) > 1:\n",
    "            replies = raw\n",
    "        else:\n",
    "            raw = page_data.find_all(\"div\", class_ = \"replies\")[0].contents\n",
    "            replies = raw[1:-1]\n",
    "    except:\n",
    "        raw = page_data.find_all(\"div\", class_ = \"replies\")[0].contents\n",
    "        replies = raw[1:-1]\n",
    "    \n",
    "    i = 0\n",
    "    mylist = []\n",
    "    \n",
    "    for each in replies:\n",
    "        try:\n",
    "            answer = each.get_text()\n",
    "            if len(answer) > 1:\n",
    "                mylist.append(answer.strip())\n",
    "                answer_txt = ' '.join(mylist)\n",
    "                row['EXP_' + str(i) + '_answer'] = answer_txt\n",
    "            elif (each.img['src']) is not None:\n",
    "                i += 1\n",
    "                response = requests.get(each.img['src'])\n",
    "                img = Image.open(io.BytesIO(response.content))\n",
    "                img_txt = pytesseract.image_to_string(img)\n",
    "                text = \" \".join(img_txt.split()[2:])\n",
    "                row['EXP_' + str(i) + '_who'] = text\n",
    "                mylist = []\n",
    "        except:\n",
    "            next"
   ]
  },
  {
   "cell_type": "markdown",
   "metadata": {},
   "source": [
    "### Using Tesseract-OCR to get name of each expert\n",
    "---\n",
    "**Requisites:**\n",
    "- Python-tesseract requires python 2.5+ or python 3.x\n",
    "- You will need the Python Imaging Library (PIL) (or the Pillow fork). Under Debian/Ubuntu, this is the package python-imaging or python3-imaging.\n",
    "- Install Google Tesseract OCR (different steps depending on the version of Linux you are running)\n",
    "---\n",
    "** Instructions & Notes:**\n",
    "- type: **!sudo pip install pytesseract**\n",
    "- **[pytesseract.py]** Change: import Image => from PIL import Image\n",
    "- Download tessdata from Github, https://github.com/tesseract-ocr/tessdata/tree/3.04.00 in /usr/local/share/tessdata\n",
    "---\n",
    "** Example: **"
   ]
  },
  {
   "cell_type": "code",
   "execution_count": null,
   "metadata": {},
   "outputs": [],
   "source": [
    "# import io\n",
    "# import requests\n",
    "# import pytesseract\n",
    "# from PIL import Image\n",
    "\n",
    "# #image = 'https://68.media.tumblr.com/af07c593f952c90616cc557bd560db61/tumblr_inline_oo8zobDy5I1u3807l_1280.jpg'\n",
    "# image = 'https://68.media.tumblr.com/0c33775a5aaeee35017c85452979a77b/tumblr_inline_oll1e4R2Vu1qeblmp_1280.jpg'\n",
    "\n",
    "# response = requests.get(image)\n",
    "# img = Image.open(io.BytesIO(response.content))\n",
    "# text = pytesseract.image_to_string(img)\n",
    "# print( text )"
   ]
  },
  {
   "cell_type": "markdown",
   "metadata": {},
   "source": [
    "### Export Final Dataset to .CSV\n",
    "---"
   ]
  },
  {
   "cell_type": "code",
   "execution_count": 38,
   "metadata": {},
   "outputs": [],
   "source": [
    "df.to_csv('tumblr_export.csv', encoding='utf-8', index = False)"
   ]
  }
 ],
 "metadata": {
  "kernelspec": {
   "display_name": "Python 2",
   "language": "python",
   "name": "python2"
  },
  "language_info": {
   "codemirror_mode": {
    "name": "ipython",
    "version": 2
   },
   "file_extension": ".py",
   "mimetype": "text/x-python",
   "name": "python",
   "nbconvert_exporter": "python",
   "pygments_lexer": "ipython2",
   "version": "2.7.12"
  },
  "widgets": {
   "state": {},
   "version": "1.1.2"
  }
 },
 "nbformat": 4,
 "nbformat_minor": 1
}
